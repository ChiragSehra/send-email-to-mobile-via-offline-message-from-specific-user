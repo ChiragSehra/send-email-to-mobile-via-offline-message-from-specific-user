{
 "cells": [
  {
   "cell_type": "code",
   "execution_count": 51,
   "metadata": {},
   "outputs": [],
   "source": [
    "import imaplib\n",
    "import email\n",
    "import re\n",
    "import os\n",
    "from datetime import datetime\n",
    "\n",
    "\n",
    "import creds"
   ]
  },
  {
   "cell_type": "code",
   "execution_count": 55,
   "metadata": {},
   "outputs": [
    {
     "data": {
      "text/plain": [
       "'Chirag2212#'"
      ]
     },
     "execution_count": 55,
     "metadata": {},
     "output_type": "execute_result"
    }
   ],
   "source": [
    "# create a creds.py file and declare variables in it like this\n",
    "\n",
    "# creds.py\n",
    "\n",
    "# user = \"Write your email id here\"\n",
    "# password = \"Your password\"\n",
    "# api_key = \"Your API Key from sms4india\"\n",
    "# secret_key = \"Your secret key from sms4india\"\n",
    "# phoneNumber = \"Your phone number\"\n",
    "# senderId = \"chiragsehradeveloper@gmail.com\"\n"
   ]
  },
  {
   "cell_type": "code",
   "execution_count": 53,
   "metadata": {},
   "outputs": [],
   "source": [
    "user = creds.user\n",
    "password = creds.password\n",
    "imap_url = 'imap.gmail.com'"
   ]
  },
  {
   "cell_type": "code",
   "execution_count": 3,
   "metadata": {},
   "outputs": [],
   "source": [
    "# Function to fetch email body and headers.\n",
    "\n",
    "def get_body(msg):\n",
    "    if msg.is_multipart():\n",
    "        return get_body((msg.get_payload(0)))\n",
    "    else:\n",
    "        return msg.get_payload(None, True)\n",
    "\n",
    "\n",
    "# Function to search for a key value pair in the email\n",
    "\n",
    "def search(key, value, con):\n",
    "    result, data = con.search(None, key, '\"{}\"'.format(value))\n",
    "    return data\n",
    "\n",
    "\n",
    "# Function to get list of emails under a label\n",
    "\n",
    "def get_emails(result_bytes):\n",
    "    msgs = []  # to push all email data here\n",
    "    for num in result_bytes[0].split():\n",
    "        typ, data = con.fetch(num, '(RFC822)')\n",
    "        msgs.append(data)\n",
    "\n",
    "    return msgs\n",
    "\n"
   ]
  },
  {
   "cell_type": "code",
   "execution_count": 4,
   "metadata": {},
   "outputs": [],
   "source": [
    "con = imaplib.IMAP4_SSL(imap_url)"
   ]
  },
  {
   "cell_type": "code",
   "execution_count": 5,
   "metadata": {},
   "outputs": [
    {
     "data": {
      "text/plain": [
       "('OK', [b'chiragsehradeveloper@gmail.com authenticated (Success)'])"
      ]
     },
     "execution_count": 5,
     "metadata": {},
     "output_type": "execute_result"
    }
   ],
   "source": [
    "con.login(user, password)"
   ]
  },
  {
   "cell_type": "code",
   "execution_count": 6,
   "metadata": {},
   "outputs": [
    {
     "data": {
      "text/plain": [
       "('OK', [b'953'])"
      ]
     },
     "execution_count": 6,
     "metadata": {},
     "output_type": "execute_result"
    }
   ],
   "source": [
    "con.select('Inbox')"
   ]
  },
  {
   "cell_type": "code",
   "execution_count": 7,
   "metadata": {},
   "outputs": [],
   "source": [
    "msgs = get_emails(search('FROM', 'chiragsehra42@gmail.com', con))"
   ]
  },
  {
   "cell_type": "code",
   "execution_count": 8,
   "metadata": {},
   "outputs": [],
   "source": [
    "for sent in msgs[-1]:\n",
    "    if type(sent) is tuple:\n",
    "        content = str(sent[1], 'utf-8')\n",
    "#         print(content)\n",
    "        \n",
    "        data = str(content)\n",
    "#         print(data)\n",
    "        textfile = open('latest_message.txt','w')\n",
    "        textfile.write(data)\n",
    "        textfile.close()"
   ]
  },
  {
   "cell_type": "code",
   "execution_count": 9,
   "metadata": {},
   "outputs": [
    {
     "name": "stdout",
     "output_type": "stream",
     "text": [
      "Body of the email is :Hey Chirag,<div>This is a test email for the automation sc=\n",
      "ript. Complete it fast and let me know when its done.\n",
      "Subject is : Subject: This is the subject for a test mail. Complete the task as soon as possible.\n",
      "\n"
     ]
    }
   ],
   "source": [
    "subjectLine = \"\"\n",
    "attachment = []\n",
    "for line in open('latest_message.txt'):\n",
    "    \n",
    "    if line.startswith('Subject'):\n",
    "        subjectLine = subjectLine+line\n",
    "#     if line.startswith('Content-Type: text/plain; charset=\"UTF-8\"'):\n",
    "#         bodyLine.append(line)\n",
    "try:\n",
    "    startIndex = data.find(\"ltr\")\n",
    "    data2 = data[startIndex + 5: len(data)]\n",
    "    indexend = data2.find(\"</div>\")\n",
    "\n",
    "    body = data2[0: indexend] \n",
    "    print(\"Body of the email is :{}\".format(body))\n",
    "\n",
    "except UnicodeEncodeError as e:\n",
    "    pass\n",
    "        \n",
    "        \n",
    "print(\"Subject is : {}\".format(subjectLine))\n",
    "        "
   ]
  },
  {
   "cell_type": "markdown",
   "metadata": {},
   "source": [
    "## Sending this message through a messaging api"
   ]
  },
  {
   "cell_type": "code",
   "execution_count": 33,
   "metadata": {},
   "outputs": [
    {
     "name": "stdout",
     "output_type": "stream",
     "text": [
      "{\"code\":\"200 OK\",\"total-messages-sent\":2,\"req-type\":\"post\",\"remaining-sms\":23,\"message\":\"Campaign sent successfully.\",\"usetype\":\"stage\",\"balacne\":\"2\",\"status\":\"success\"}\n"
     ]
    }
   ],
   "source": [
    "import requests\n",
    "import json\n",
    "\n",
    "URL = 'https://www.sms4india.com/api/v1/sendCampaign'\n",
    "\n",
    "# get request\n",
    "def sendPostRequest(reqUrl, apiKey, secretKey, useType, phoneNo, senderId, textMessage):\n",
    "  req_params = {\n",
    "  'apikey':apiKey,\n",
    "  'secret':secretKey,\n",
    "  'usetype':useType,\n",
    "  'phone': phoneNo,\n",
    "  'message':textMessage,\n",
    "  'senderid':senderId\n",
    "  }\n",
    "  return requests.post(reqUrl, req_params)\n",
    "\n",
    "# get response\n",
    "response = sendPostRequest(URL, creds.api_key, creds.secret_key, 'stage', creds.phoneNo, creds.senderId, subjectLine+\"\\n\"+body )\n",
    "\"\"\"\n",
    "  Note:-\n",
    "    you must provide apikey, secretkey, usetype, mobile, senderid and message values\n",
    "    and then requst to api\n",
    "\"\"\"\n",
    "# print response if you want\n",
    "print(response.text)"
   ]
  },
  {
   "cell_type": "code",
   "execution_count": 36,
   "metadata": {},
   "outputs": [],
   "source": [
    "import logging\n",
    "LOG_FILENAME = 'example.log'\n",
    "logging.basicConfig(filename=LOG_FILENAME,level=logging.DEBUG)\n",
    "json = json.loads(response.text)\n",
    "\n",
    "logging.debug(json['status'] + \"against the new mail received with subject \" + subjectLine+\" at time \"+datetime.now())"
   ]
  },
  {
   "cell_type": "code",
   "execution_count": 10,
   "metadata": {},
   "outputs": [],
   "source": [
    "# con.close()"
   ]
  }
 ],
 "metadata": {
  "kernelspec": {
   "display_name": "Python 3",
   "language": "python",
   "name": "python3"
  },
  "language_info": {
   "codemirror_mode": {
    "name": "ipython",
    "version": 3
   },
   "file_extension": ".py",
   "mimetype": "text/x-python",
   "name": "python",
   "nbconvert_exporter": "python",
   "pygments_lexer": "ipython3",
   "version": "3.6.9"
  }
 },
 "nbformat": 4,
 "nbformat_minor": 4
}
